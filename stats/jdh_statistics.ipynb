{
 "cells": [
  {
   "cell_type": "markdown",
   "id": "48f6fad3",
   "metadata": {},
   "source": [
    "# JDH statistics"
   ]
  },
  {
   "cell_type": "markdown",
   "id": "d42f2f93",
   "metadata": {},
   "source": [
    "## Articles published"
   ]
  },
  {
   "cell_type": "markdown",
   "id": "b2739956",
   "metadata": {},
   "source": [
    "By using the JDH api track: https://journalofdigitalhistory.org/api/articles/"
   ]
  },
  {
   "cell_type": "code",
   "execution_count": null,
   "id": "d5fd5a8b",
   "metadata": {
    "ExecuteTime": {
     "end_time": "2024-07-04T09:08:42.716439Z",
     "start_time": "2024-07-04T09:08:37.437815Z"
    },
    "scrolled": true
   },
   "outputs": [
    {
     "ename": "",
     "evalue": "",
     "output_type": "error",
     "traceback": [
      "\u001b[1;31mThe kernel failed to start as the Python Environment 'Python 3.8.20' is no longer available. Consider selecting another kernel or refreshing the list of Python Environments."
     ]
    }
   ],
   "source": [
    "import requests\n",
    "import pandas as pd\n",
    "import matplotlib.pyplot as plt\n",
    "\n",
    "# API URL\n",
    "api_url = \"https://journalofdigitalhistory.org/api/articles/?format=json&limit=100\"\n",
    "\n",
    "# Make the API call\n",
    "response = requests.get(api_url)\n",
    "\n",
    "# Check if the request was successful\n",
    "if response.status_code == 200:\n",
    "    # Parse the JSON response\n",
    "    response_data = response.json()\n",
    "\n",
    "    # Extract the list of articles from the response\n",
    "    results = response_data.get(\"results\", [])\n",
    "\n",
    "    if results:\n",
    "        # Create a DataFrame with selected columns\n",
    "        df = pd.DataFrame(results, columns=['status', 'publication_date', 'repository_type','tags'])\n",
    "\n",
    "        # Extract the year using regular expressions\n",
    "        df['publication_year'] = df['publication_date'].str.extract(r'(\\d{4})', expand=False)\n",
    "        \n",
    "        # Check if 'tags' column exists before applying the filter\n",
    "        if 'tags' in df.columns:\n",
    "            # Filter out editorial articles\n",
    "            df = df[~df['tags'].apply(lambda x: any(tag['name'] == 'editorial' for tag in x))]\n",
    "\n",
    "        # Count the number of articles per year\n",
    "        articles_per_year = df['publication_year'].value_counts().sort_index()\n",
    "\n",
    "        # Plot the data\n",
    "        articles_per_year.plot(kind='bar', xlabel='Year', ylabel='Number of Articles', title='Articles Published per Year')\n",
    "        # Set y-axis ticks to integers only\n",
    "        plt.yticks(range(int(articles_per_year.max()) + 1))\n",
    "\n",
    "        plt.show()\n",
    "\n",
    "    else:\n",
    "        print(\"No articles found in the response.\")\n",
    "else:\n",
    "    print(f\"Failed to retrieve data. Status code: {response.status_code}\")\n"
   ]
  },
  {
   "cell_type": "markdown",
   "id": "424db0a6",
   "metadata": {},
   "source": [
    "## Abstract submitted"
   ]
  },
  {
   "cell_type": "markdown",
   "id": "60a4f326-f33f-4491-b4c4-67ef628d397d",
   "metadata": {},
   "source": [
    "## Per year"
   ]
  },
  {
   "cell_type": "code",
   "execution_count": null,
   "id": "1026e936",
   "metadata": {
    "ExecuteTime": {
     "end_time": "2024-07-04T10:00:37.922996Z",
     "start_time": "2024-07-04T10:00:35.409658Z"
    }
   },
   "outputs": [],
   "source": [
    "import requests\n",
    "import pandas as pd\n",
    "import matplotlib.pyplot as plt\n",
    "\n",
    "# API URL\n",
    "api_url = \"https://journalofdigitalhistory.org/api/abstracts/?format=json&limit=100\"\n",
    "\n",
    "\n",
    "username = \"elisabeth.guerard\"\n",
    "password = \"\"\n",
    "\n",
    "# Set up authentication\n",
    "auth = (username, password)\n",
    "\n",
    "# Make the API call with authentication\n",
    "response = requests.get(api_url, auth=auth)\n",
    "\n",
    "\n",
    "# Check if the request was successful\n",
    "if response.status_code == 200:\n",
    "    # Parse the JSON response\n",
    "    response_data = response.json()\n",
    "\n",
    "    # Extract the list of articles from the response\n",
    "    results = response_data.get(\"results\", [])\n",
    "\n",
    "    if results:\n",
    "        # Create a DataFrame with selected columns\n",
    "        df = pd.DataFrame(results, columns=['status', 'callpaper', 'submitted_date'])\n",
    "\n",
    "        # Extract the year using regular expressions\n",
    "        df['submitted_date'] = df['submitted_date'].str.extract(r'(\\d{4})', expand=False)\n",
    "        \n",
    " \n",
    "        # Count the number of abstracts per year\n",
    "        abstracts_per_year = df['submitted_date'].value_counts().sort_index()\n",
    "\n",
    "     # Plot the data as a line plot\n",
    "        abstracts_per_year.plot(kind='line', marker='o', xlabel='Year', ylabel='Number of Abstracts', title='Abstracts submitted per Year')\n",
    "\n",
    "        plt.show()\n",
    "\n",
    "    else:\n",
    "        print(\"No abstracts found in the response.\")\n",
    "else:\n",
    "    print(f\"Failed to retrieve data. Status code: {response.status_code}\")\n"
   ]
  },
  {
   "cell_type": "markdown",
   "id": "e90da2fa-4c9d-434f-8b11-c5fbfecc2d3b",
   "metadata": {},
   "source": [
    "## Per Cfp"
   ]
  },
  {
   "cell_type": "code",
   "execution_count": null,
   "id": "5b78c1e7",
   "metadata": {
    "ExecuteTime": {
     "end_time": "2024-07-04T10:01:08.586518Z",
     "start_time": "2024-07-04T10:01:05.236230Z"
    }
   },
   "outputs": [],
   "source": [
    "import requests\n",
    "import pandas as pd\n",
    "import matplotlib.pyplot as plt\n",
    "\n",
    "# API URL\n",
    "api_url = \"https://journalofdigitalhistory.org/api/abstracts/?format=json&limit=100\"\n",
    "\n",
    "\n",
    "# Set up authentication\n",
    "auth = (username, password)\n",
    "\n",
    "# Make the API call with authentication\n",
    "response = requests.get(api_url, auth=auth)\n",
    "\n",
    "\n",
    "# Check if the request was successful\n",
    "if response.status_code == 200:\n",
    "    # Parse the JSON response\n",
    "    response_data = response.json()\n",
    "\n",
    "    # Extract the list of articles from the response\n",
    "    results = response_data.get(\"results\", [])\n",
    "\n",
    "    if results:\n",
    "        # Create a DataFrame with selected columns\n",
    "        df = pd.DataFrame(results, columns=['status', 'callpaper', 'submitted_date'])\n",
    "\n",
    "        # Extract the year using regular expressions\n",
    "        df['submitted_date'] = df['submitted_date'].str.extract(r'(\\d{4})', expand=False)\n",
    "\n",
    "        # Handle the case where callpaper is null by replacing it with \"open_issue\"\n",
    "        df['callpaper'].fillna('open_issue', inplace=True)\n",
    "\n",
    " \n"
   ]
  },
  {
   "cell_type": "code",
   "execution_count": null,
   "id": "7d3806d1",
   "metadata": {
    "ExecuteTime": {
     "end_time": "2024-07-04T10:01:17.515096Z",
     "start_time": "2024-07-04T10:01:17.096874Z"
    }
   },
   "outputs": [],
   "source": [
    "pivot_table = pd.pivot_table(df, values='status', index='submitted_date', columns='callpaper', aggfunc='count', fill_value=0)\n",
    "\n",
    "# Plot the data as a line plot\n",
    "ax = pivot_table.plot(kind='line', marker='o', xlabel='Year', ylabel='Number of Abstracts', title='Abstracts submitted per Year by Callpaper Type')\n",
    "\n",
    "# Get the handles and labels of the current axes\n",
    "handles, labels = ax.get_legend_handles_labels()\n",
    "# Map callpaper values to corresponding labels\n",
    "callpaper_labels = {\n",
    "            '4.0': 'Teaching Digital History',\n",
    "            '3.0': 'DH China',\n",
    "            '2.0': 'History through the web',\n",
    "            '1.0': 'Digital Tools',\n",
    "            'open_issue': 'Open Issue'  # You can customize this label\n",
    "        }\n",
    "# Update legend labels\n",
    "labels = [callpaper_labels[label] for label in labels]\n",
    "\n",
    "# Plot the legend\n",
    "ax.legend(handles, labels, title='Callpaper Type', loc='upper left')\n",
    "\n",
    "# Set the y-axis origin to 0\n",
    "ax.set_ylim(bottom=0)\n",
    "\n",
    "plt.show()"
   ]
  },
  {
   "cell_type": "markdown",
   "id": "0e0b5458-849f-4f61-99e6-d10c9f3382b2",
   "metadata": {},
   "source": [
    "## Articles status"
   ]
  },
  {
   "cell_type": "code",
   "execution_count": null,
   "id": "212bf426-ea9f-43dd-baa9-e39a7bcafece",
   "metadata": {},
   "outputs": [],
   "source": [
    "import requests\n",
    "import pandas as pd\n",
    "import matplotlib.pyplot as plt\n",
    "\n",
    "# API URL\n",
    "api_url = \"http://10.240.4.179/api/articles/?format=json&limit=100\"\n",
    "\n",
    "username= \"elisabeth.guerard\"\n",
    "password= \"\"\n",
    "\n",
    "# Set up authentication\n",
    "auth = (username, password)\n",
    "\n",
    "# Make the API call with authentication\n",
    "response = requests.get(api_url, auth=auth)\n",
    "\n",
    "\n",
    "\n",
    "# Check if the request was successful\n",
    "if response.status_code == 200:\n",
    "    # Parse the JSON response\n",
    "    response_data = response.json()\n",
    "\n",
    "    # Extract the list of articles from the response\n",
    "    results = response_data.get(\"results\", [])\n",
    "\n",
    "    if results:\n",
    "\n",
    "        # Initialize an empty list to hold the processed articles\n",
    "        processed_articles = []\n",
    "    \n",
    "        # Iterate through each article in the results\n",
    "        for article in results:\n",
    "            # Extract the title from the abstract, if available\n",
    "            title = article.get('abstract', {}).get('title', 'No Title Available')\n",
    "            issue_title = article.get('issue', {}).get('name', 'No Title Available')\n",
    "            # Create a new dictionary with the status and the extracted title\n",
    "            processed_article = {\n",
    "                'status': article.get('status', 'No Status Available'),\n",
    "                'title': title,\n",
    "                'issue_title': issue_title\n",
    "            }\n",
    "            # Append the processed article to the list\n",
    "            processed_articles.append(processed_article)\n",
    "    \n",
    "        # Create a DataFrame from the list of processed articles\n",
    "        df = pd.DataFrame(processed_articles, columns=['status','issue_title','title'])\n",
    "\n"
   ]
  },
  {
   "cell_type": "markdown",
   "id": "7fb6e54b-2618-4c88-827a-263a443b1bb6",
   "metadata": {},
   "source": [
    "### Article status distribution"
   ]
  },
  {
   "cell_type": "code",
   "execution_count": null,
   "id": "4164df21-754a-4408-b1c3-de317d7bfbb7",
   "metadata": {},
   "outputs": [],
   "source": [
    "# Count the occurrences of each status\n",
    "status_counts = df['status'].value_counts()\n",
    "\n",
    "# Plot a pie chart\n",
    "plt.figure(figsize=(8, 8))  # Set the figure size\n",
    "plt.pie(status_counts, labels=status_counts.index, autopct='%1.1f%%', startangle=140)\n",
    "plt.title('Article Status Distribution')\n",
    "plt.show()"
   ]
  },
  {
   "cell_type": "markdown",
   "id": "e53b39a1-7b4e-448c-b991-74af20c61f64",
   "metadata": {},
   "source": [
    "### Article status distribution per issue"
   ]
  },
  {
   "cell_type": "code",
   "execution_count": null,
   "id": "cab3e56c-3859-4b61-8be4-6f7d5f205cce",
   "metadata": {
    "collapsed": true,
    "jupyter": {
     "outputs_hidden": true
    }
   },
   "outputs": [],
   "source": [
    "grouped_data = df.groupby(['issue_title', 'status']).size().unstack(fill_value=0)\n",
    "\n",
    "# Plot a stacked bar chart\n",
    "grouped_data.plot(kind='bar', stacked=True, figsize=(10, 7))\n",
    "plt.title('Number of Articles by Status and Issue')\n",
    "plt.xlabel('Issue Title')\n",
    "plt.ylabel('Number of Articles')\n",
    "plt.xticks(rotation=45)\n",
    "plt.legend(title='Status')\n",
    "plt.tight_layout()\n",
    "plt.show()"
   ]
  },
  {
   "cell_type": "markdown",
   "id": "dc80d297",
   "metadata": {
    "ExecuteTime": {
     "end_time": "2024-01-17T08:27:22.093199Z",
     "start_time": "2024-01-17T08:27:22.089283Z"
    }
   },
   "source": [
    "## Technical review"
   ]
  },
  {
   "cell_type": "markdown",
   "id": "57f2d9ce",
   "metadata": {},
   "source": [
    "Need to track the Github issue of the repository https://github.com/C2DH/jdh-notebook"
   ]
  },
  {
   "cell_type": "markdown",
   "id": "59e3a94c",
   "metadata": {},
   "source": [
    "11 open issued\n",
    "On the 59 closed:\n",
    "\n",
    "- 22 closed in 2024\n",
    "- 27 closed in 2023\n",
    "- 6 closed in 2022\n",
    "- 4 closed in 2021\n",
    "\n",
    "\n",
    "\n",
    "\n",
    "Let's retrive this information by API."
   ]
  },
  {
   "cell_type": "code",
   "execution_count": null,
   "id": "578a88a2",
   "metadata": {
    "ExecuteTime": {
     "end_time": "2024-07-04T10:03:25.624159Z",
     "start_time": "2024-07-04T10:03:25.619110Z"
    }
   },
   "outputs": [],
   "source": [
    "ACCESS_TOKEN = \"\""
   ]
  },
  {
   "cell_type": "code",
   "execution_count": null,
   "id": "10297bf8",
   "metadata": {},
   "outputs": [],
   "source": [
    "import requests\n",
    "import pandas as pd\n",
    "\n",
    "# Assuming ACCESS_TOKEN is defined\n",
    "headers = {\n",
    "    'Authorization': f'token {ACCESS_TOKEN}',\n",
    "}\n",
    "\n",
    "params = {\n",
    "    'state': 'closed',\n",
    "    'per_page': 100,\n",
    "}\n",
    "\n",
    "repository_url = 'https://api.github.com/repos/C2DH/jdh-notebook/issues'\n",
    "all_issues = []\n",
    "\n",
    "while True:\n",
    "    response = requests.get(repository_url, params=params, headers=headers)\n",
    "    # Check if the request was successful\n",
    "    if response.status_code == 200:\n",
    "        issues = response.json()\n",
    "        if not issues:\n",
    "            break  # Break the loop if no more issues are returned\n",
    "        all_issues.extend(issues)\n",
    "        # GitHub API includes pagination links in the response headers\n",
    "        if 'next' in response.links.keys():\n",
    "            repository_url = response.links['next']['url']  # Get the URL for the next page\n",
    "        else:\n",
    "            break  # Break the loop if there are no more pages\n",
    "    else:\n",
    "        print(f\"Failed to fetch issues. Status code: {response.status_code}\")\n",
    "        break\n",
    "\n",
    "# Filter issues with the title containing 'Technical review'\n",
    "filtered_issues = [issue for issue in all_issues if 'technical' in issue.get('title', '').lower()]\n",
    "\n",
    "# Extract relevant information including the issue number and create a DataFrame\n",
    "data = [{'number': issue['number'], 'title': issue['title'], 'status': issue['state']} for issue in filtered_issues]\n",
    "df = pd.DataFrame(data)\n",
    "\n",
    "# Display the DataFrame\n",
    "print(df)"
   ]
  },
  {
   "cell_type": "code",
   "execution_count": null,
   "id": "889691fa-2650-4cd2-a234-535dfb0edc42",
   "metadata": {},
   "outputs": [],
   "source": [
    "\n",
    "# Extract year from closed_at and create a DataFrame\n",
    "data = [{'year': pd.to_datetime(issue['closed_at']).year} for issue in all_issues if issue['closed_at'] is not None]\n",
    "df = pd.DataFrame(data)\n",
    "\n",
    "# Count the number of issues closed per year\n",
    "issues_per_year = df['year'].value_counts().sort_index()\n",
    "\n",
    "# Plotting\n",
    "issues_per_year.plot(kind='bar')\n",
    "plt.title('Number of Issues Closed per Year')\n",
    "plt.xlabel('Year')\n",
    "plt.ylabel('Number of Issues Closed')\n",
    "plt.xticks(rotation=45)\n",
    "plt.show()"
   ]
  },
  {
   "cell_type": "code",
   "execution_count": null,
   "id": "dd0718f9-6400-4add-9ece-547630fe4cf3",
   "metadata": {},
   "outputs": [],
   "source": []
  }
 ],
 "metadata": {
  "jupytext": {
   "formats": "ipynb,md"
  },
  "kernelspec": {
   "display_name": ".venv",
   "language": "python",
   "name": "python3"
  },
  "language_info": {
   "codemirror_mode": {
    "name": "ipython",
    "version": 3
   },
   "file_extension": ".py",
   "mimetype": "text/x-python",
   "name": "python",
   "nbconvert_exporter": "python",
   "pygments_lexer": "ipython3",
   "version": "3.8.20"
  },
  "toc": {
   "base_numbering": 1,
   "nav_menu": {},
   "number_sections": true,
   "sideBar": true,
   "skip_h1_title": false,
   "title_cell": "Table of Contents",
   "title_sidebar": "Contents",
   "toc_cell": false,
   "toc_position": {
    "height": "calc(100% - 180px)",
    "left": "10px",
    "top": "150px",
    "width": "165px"
   },
   "toc_section_display": true,
   "toc_window_display": true
  }
 },
 "nbformat": 4,
 "nbformat_minor": 5
}
